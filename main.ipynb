{
 "cells": [
  {
   "cell_type": "markdown",
   "metadata": {},
   "source": [
    "## login"
   ]
  },
  {
   "cell_type": "code",
   "execution_count": null,
   "metadata": {},
   "outputs": [],
   "source": [
    "from selenium.webdriver.common.action_chains import ActionChains, ActionBuilder\n",
    "from selenium.webdriver.firefox.service import Service\n",
    "from selenium.webdriver.firefox.options import Options\n",
    "from selenium.webdriver.common.keys import Keys\n",
    "from selenium.webdriver.common.by import By\n",
    "from selenium import webdriver \n",
    "from pynput import keyboard\n",
    "from random import *\n",
    "import time\n",
    "\n",
    "\n",
    "# -------------------------------------\n",
    "# ---removendo informações no terminal\n",
    "options = Options()\n",
    "options.add_argument(\"--disable-logging\")\n",
    "options.add_argument(\"--log-level-3\")\n",
    "\n",
    "\n",
    "service = Service(executable_path=\"geckodriver.exe\")\n",
    "driver = webdriver.Firefox(service=service, options=options)\n",
    "url = 'https://universe.flyff.com/user/login'\n",
    "driver.get(url)"
   ]
  },
  {
   "cell_type": "markdown",
   "metadata": {},
   "source": [
    "# funções macro"
   ]
  },
  {
   "cell_type": "code",
   "execution_count": null,
   "metadata": {},
   "outputs": [],
   "source": [
    "def comand_buff(lista=[0,9,8,7,6]):\n",
    "    for item in lista:\n",
    "        ActionChains(driver)\\\n",
    "            .key_down(Keys.ALT)\\\n",
    "            .send_keys(item)\\\n",
    "            .key_up(Keys.ALT)\\\n",
    "            .perform()\n",
    "        time.sleep(2)\n",
    "\n",
    "def key_numeric(x_key, n=1, t=1.2):\n",
    "    t = t\n",
    "    for x in list(range(0, n)):\n",
    "        ActionChains(driver)\\\n",
    "                .send_keys(\"%s\"%x_key)\\\n",
    "                .perform()\n",
    "        time.sleep(t)\n",
    "        \n",
    "with keyboard.Events() as events:\n",
    "    for event in events:\n",
    "        \n",
    "        # buffar\n",
    "        if str(event) == \"Release(key='0')\":\n",
    "            comand_buff()\n",
    "        \n",
    "        # curar\n",
    "        elif str(event) == \"Release(key='4')\":\n",
    "            key_numeric(1, 1)\n",
    "        \n",
    "        # círculo de cura\n",
    "        elif str(event) == \"Release(key='5')\":\n",
    "            key_numeric(5, 1)\n",
    "            key_numeric(2,20)\n",
    "            \n",
    "        # círculo de cura\n",
    "        # elif str(event) == \"Release(key='5')\":\n",
    "        #     key_numeric(5, 1)\n",
    "        #     key_numeric(2,25)\n",
    "        #     key_numeric(4, 2)\n",
    "        #     key_numeric(2,25)\n",
    "        #     key_numeric(4, 2)\n",
    "        elif str(event) == \"Release(key='6')\":\n",
    "            key_numeric(4, 3)\n",
    "        \n",
    "        # parar\n",
    "        elif str(event) == \"Release(key=Key.esc)\":\n",
    "            break"
   ]
  },
  {
   "cell_type": "code",
   "execution_count": null,
   "metadata": {},
   "outputs": [],
   "source": [
    "# sair\n",
    "driver.quit()"
   ]
  }
 ],
 "metadata": {
  "kernelspec": {
   "display_name": "Python 3.9.12 ('flyff': venv)",
   "language": "python",
   "name": "python3"
  },
  "language_info": {
   "codemirror_mode": {
    "name": "ipython",
    "version": 3
   },
   "file_extension": ".py",
   "mimetype": "text/x-python",
   "name": "python",
   "nbconvert_exporter": "python",
   "pygments_lexer": "ipython3",
   "version": "3.9.12"
  },
  "orig_nbformat": 4,
  "vscode": {
   "interpreter": {
    "hash": "937968fcbb4887f4d8226ed2b4fd99b75d643fa1969a13514438a744fd955132"
   }
  }
 },
 "nbformat": 4,
 "nbformat_minor": 2
}
